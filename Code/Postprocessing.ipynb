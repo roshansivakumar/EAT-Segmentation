{
 "cells": [
  {
   "cell_type": "code",
   "execution_count": 2,
   "metadata": {},
   "outputs": [
    {
     "name": "stdout",
     "output_type": "stream",
     "text": [
      "Requirement already satisfied: pydicom in /usr/local/lib/python3.8/dist-packages (from -r requirements.txt (line 1)) (2.3.0)\n",
      "Requirement already satisfied: matplotlib in /usr/local/lib/python3.8/dist-packages (from -r requirements.txt (line 2)) (3.5.1)\n",
      "Requirement already satisfied: numpy in /usr/local/lib/python3.8/dist-packages (from -r requirements.txt (line 3)) (1.22.1)\n",
      "Requirement already satisfied: scikit-image in /usr/local/lib/python3.8/dist-packages (from -r requirements.txt (line 4)) (0.19.2)\n",
      "Requirement already satisfied: Tensorflow in /usr/local/lib/python3.8/dist-packages (from -r requirements.txt (line 5)) (2.7.1)\n",
      "Requirement already satisfied: fonttools>=4.22.0 in /usr/local/lib/python3.8/dist-packages (from matplotlib->-r requirements.txt (line 2)) (4.29.1)\n",
      "Requirement already satisfied: pillow>=6.2.0 in /usr/local/lib/python3.8/dist-packages (from matplotlib->-r requirements.txt (line 2)) (9.0.0)\n",
      "Requirement already satisfied: cycler>=0.10 in /usr/local/lib/python3.8/dist-packages (from matplotlib->-r requirements.txt (line 2)) (0.11.0)\n",
      "Requirement already satisfied: python-dateutil>=2.7 in /usr/local/lib/python3.8/dist-packages (from matplotlib->-r requirements.txt (line 2)) (2.8.2)\n",
      "Requirement already satisfied: pyparsing>=2.2.1 in /usr/local/lib/python3.8/dist-packages (from matplotlib->-r requirements.txt (line 2)) (3.0.7)\n",
      "Requirement already satisfied: kiwisolver>=1.0.1 in /usr/local/lib/python3.8/dist-packages (from matplotlib->-r requirements.txt (line 2)) (1.3.2)\n",
      "Requirement already satisfied: packaging>=20.0 in /usr/local/lib/python3.8/dist-packages (from matplotlib->-r requirements.txt (line 2)) (21.3)\n",
      "Requirement already satisfied: scipy>=1.4.1 in /usr/local/lib/python3.8/dist-packages (from scikit-image->-r requirements.txt (line 4)) (1.8.0)\n",
      "Requirement already satisfied: imageio>=2.4.1 in /usr/local/lib/python3.8/dist-packages (from scikit-image->-r requirements.txt (line 4)) (2.17.0)\n",
      "Requirement already satisfied: networkx>=2.2 in /usr/local/lib/python3.8/dist-packages (from scikit-image->-r requirements.txt (line 4)) (2.8)\n",
      "Requirement already satisfied: PyWavelets>=1.1.1 in /usr/local/lib/python3.8/dist-packages (from scikit-image->-r requirements.txt (line 4)) (1.3.0)\n",
      "Requirement already satisfied: tifffile>=2019.7.26 in /usr/local/lib/python3.8/dist-packages (from scikit-image->-r requirements.txt (line 4)) (2022.4.8)\n",
      "Requirement already satisfied: protobuf>=3.9.2 in /usr/local/lib/python3.8/dist-packages (from Tensorflow->-r requirements.txt (line 5)) (3.19.4)\n",
      "Requirement already satisfied: six>=1.12.0 in /usr/lib/python3/dist-packages (from Tensorflow->-r requirements.txt (line 5)) (1.14.0)\n",
      "Requirement already satisfied: grpcio<2.0,>=1.24.3 in /usr/local/lib/python3.8/dist-packages (from Tensorflow->-r requirements.txt (line 5)) (1.43.0)\n",
      "Requirement already satisfied: libclang>=9.0.1 in /usr/local/lib/python3.8/dist-packages (from Tensorflow->-r requirements.txt (line 5)) (13.0.0)\n",
      "Requirement already satisfied: flatbuffers<3.0,>=1.12 in /usr/local/lib/python3.8/dist-packages (from Tensorflow->-r requirements.txt (line 5)) (2.0)\n",
      "Requirement already satisfied: google-pasta>=0.1.1 in /usr/local/lib/python3.8/dist-packages (from Tensorflow->-r requirements.txt (line 5)) (0.2.0)\n",
      "Requirement already satisfied: tensorflow-estimator<2.8,~=2.7.0rc0 in /usr/local/lib/python3.8/dist-packages (from Tensorflow->-r requirements.txt (line 5)) (2.7.0)\n",
      "Requirement already satisfied: gast<0.5.0,>=0.2.1 in /usr/local/lib/python3.8/dist-packages (from Tensorflow->-r requirements.txt (line 5)) (0.4.0)\n",
      "Requirement already satisfied: keras-preprocessing>=1.1.1 in /usr/local/lib/python3.8/dist-packages (from Tensorflow->-r requirements.txt (line 5)) (1.1.2)\n",
      "Requirement already satisfied: tensorboard~=2.6 in /usr/local/lib/python3.8/dist-packages (from Tensorflow->-r requirements.txt (line 5)) (2.8.0)\n",
      "Requirement already satisfied: termcolor>=1.1.0 in /usr/local/lib/python3.8/dist-packages (from Tensorflow->-r requirements.txt (line 5)) (1.1.0)\n",
      "Requirement already satisfied: tensorflow-io-gcs-filesystem>=0.21.0 in /usr/local/lib/python3.8/dist-packages (from Tensorflow->-r requirements.txt (line 5)) (0.23.1)\n",
      "Requirement already satisfied: opt-einsum>=2.3.2 in /usr/local/lib/python3.8/dist-packages (from Tensorflow->-r requirements.txt (line 5)) (3.3.0)\n",
      "Requirement already satisfied: wrapt>=1.11.0 in /usr/local/lib/python3.8/dist-packages (from Tensorflow->-r requirements.txt (line 5)) (1.13.3)\n",
      "Requirement already satisfied: keras<2.8,>=2.7.0rc0 in /usr/local/lib/python3.8/dist-packages (from Tensorflow->-r requirements.txt (line 5)) (2.7.0)\n",
      "Requirement already satisfied: absl-py>=0.4.0 in /usr/local/lib/python3.8/dist-packages (from Tensorflow->-r requirements.txt (line 5)) (1.0.0)\n",
      "Requirement already satisfied: astunparse>=1.6.0 in /usr/local/lib/python3.8/dist-packages (from Tensorflow->-r requirements.txt (line 5)) (1.6.3)\n",
      "Requirement already satisfied: typing-extensions>=3.6.6 in /usr/local/lib/python3.8/dist-packages (from Tensorflow->-r requirements.txt (line 5)) (4.0.1)\n",
      "Requirement already satisfied: wheel<1.0,>=0.32.0 in /usr/lib/python3/dist-packages (from Tensorflow->-r requirements.txt (line 5)) (0.34.2)\n",
      "Requirement already satisfied: h5py>=2.9.0 in /usr/local/lib/python3.8/dist-packages (from Tensorflow->-r requirements.txt (line 5)) (3.6.0)\n",
      "Requirement already satisfied: setuptools>=41.0.0 in /usr/local/lib/python3.8/dist-packages (from tensorboard~=2.6->Tensorflow->-r requirements.txt (line 5)) (60.7.0)\n",
      "Requirement already satisfied: google-auth<3,>=1.6.3 in /usr/local/lib/python3.8/dist-packages (from tensorboard~=2.6->Tensorflow->-r requirements.txt (line 5)) (2.6.0)\n",
      "Requirement already satisfied: markdown>=2.6.8 in /usr/local/lib/python3.8/dist-packages (from tensorboard~=2.6->Tensorflow->-r requirements.txt (line 5)) (3.3.6)\n",
      "Requirement already satisfied: google-auth-oauthlib<0.5,>=0.4.1 in /usr/local/lib/python3.8/dist-packages (from tensorboard~=2.6->Tensorflow->-r requirements.txt (line 5)) (0.4.6)\n",
      "Requirement already satisfied: requests<3,>=2.21.0 in /usr/lib/python3/dist-packages (from tensorboard~=2.6->Tensorflow->-r requirements.txt (line 5)) (2.22.0)\n",
      "Requirement already satisfied: tensorboard-data-server<0.7.0,>=0.6.0 in /usr/local/lib/python3.8/dist-packages (from tensorboard~=2.6->Tensorflow->-r requirements.txt (line 5)) (0.6.1)\n",
      "Requirement already satisfied: tensorboard-plugin-wit>=1.6.0 in /usr/local/lib/python3.8/dist-packages (from tensorboard~=2.6->Tensorflow->-r requirements.txt (line 5)) (1.8.1)\n",
      "Requirement already satisfied: werkzeug>=0.11.15 in /usr/local/lib/python3.8/dist-packages (from tensorboard~=2.6->Tensorflow->-r requirements.txt (line 5)) (2.0.2)\n",
      "Requirement already satisfied: pyasn1-modules>=0.2.1 in /usr/local/lib/python3.8/dist-packages (from google-auth<3,>=1.6.3->tensorboard~=2.6->Tensorflow->-r requirements.txt (line 5)) (0.2.8)\n",
      "Requirement already satisfied: rsa<5,>=3.1.4; python_version >= \"3.6\" in /usr/local/lib/python3.8/dist-packages (from google-auth<3,>=1.6.3->tensorboard~=2.6->Tensorflow->-r requirements.txt (line 5)) (4.8)\n",
      "Requirement already satisfied: cachetools<6.0,>=2.0.0 in /usr/local/lib/python3.8/dist-packages (from google-auth<3,>=1.6.3->tensorboard~=2.6->Tensorflow->-r requirements.txt (line 5)) (5.0.0)\n",
      "Requirement already satisfied: importlib-metadata>=4.4; python_version < \"3.10\" in /usr/local/lib/python3.8/dist-packages (from markdown>=2.6.8->tensorboard~=2.6->Tensorflow->-r requirements.txt (line 5)) (4.10.1)\n",
      "Requirement already satisfied: requests-oauthlib>=0.7.0 in /usr/local/lib/python3.8/dist-packages (from google-auth-oauthlib<0.5,>=0.4.1->tensorboard~=2.6->Tensorflow->-r requirements.txt (line 5)) (1.3.1)\n",
      "Requirement already satisfied: pyasn1<0.5.0,>=0.4.6 in /usr/local/lib/python3.8/dist-packages (from pyasn1-modules>=0.2.1->google-auth<3,>=1.6.3->tensorboard~=2.6->Tensorflow->-r requirements.txt (line 5)) (0.4.8)\n",
      "Requirement already satisfied: zipp>=0.5 in /usr/local/lib/python3.8/dist-packages (from importlib-metadata>=4.4; python_version < \"3.10\"->markdown>=2.6.8->tensorboard~=2.6->Tensorflow->-r requirements.txt (line 5)) (3.7.0)\n",
      "Requirement already satisfied: oauthlib>=3.0.0 in /usr/local/lib/python3.8/dist-packages (from requests-oauthlib>=0.7.0->google-auth-oauthlib<0.5,>=0.4.1->tensorboard~=2.6->Tensorflow->-r requirements.txt (line 5)) (3.2.0)\n",
      "\u001b[33mWARNING: You are using pip version 20.2.4; however, version 22.0.4 is available.\n",
      "You should consider upgrading via the '/bin/python3 -m pip install --upgrade pip' command.\u001b[0m\n"
     ]
    }
   ],
   "source": [
    "import sys\n",
    "!{sys.executable} -m pip install -r requirements.txt\n",
    "import pydicom\n",
    "import matplotlib.pylab as plt\n",
    "import matplotlib\n",
    "import os\n",
    "import numpy as np\n",
    "from PIL import Image\n",
    "import time\n",
    "import skimage.io as io\n",
    "from unet.model import *\n",
    "from unet.data import *\n"
   ]
  },
  {
   "cell_type": "markdown",
   "metadata": {},
   "source": [
    "Configure Global Variables\n",
    "----"
   ]
  },
  {
   "cell_type": "code",
   "execution_count": 3,
   "metadata": {},
   "outputs": [],
   "source": [
    "window = 350 # Window/Level from Hoori et al (\"HU-attention-window with a window/level of 350/40 HU\")\n",
    "level = 40\n",
    "bitDepth = 8 # Must be 8 for uint8 PNGs. Explore floating point\n",
    "TrainingDataRootDir = '../Training Data'\n",
    "TestDataRootDir = '../Test Data'"
   ]
  },
  {
   "cell_type": "markdown",
   "metadata": {},
   "source": [
    "Postprocess Test Data\n",
    "----"
   ]
  },
  {
   "cell_type": "markdown",
   "metadata": {},
   "source": [
    "Apply AI Fat Masks and Isolate Fat by HU\n",
    "----"
   ]
  },
  {
   "cell_type": "code",
   "execution_count": 6,
   "metadata": {},
   "outputs": [
    {
     "name": "stdout",
     "output_type": "stream",
     "text": [
      "../Test Data/SA209\n"
     ]
    },
    {
     "ename": "KeyboardInterrupt",
     "evalue": "",
     "output_type": "error",
     "traceback": [
      "\u001b[0;31m---------------------------------------------------------------------------\u001b[0m",
      "\u001b[0;31mKeyboardInterrupt\u001b[0m                         Traceback (most recent call last)",
      "\u001b[1;32m/workspaces/461-EAT-Project/Code/Postprocessing.ipynb Cell 8'\u001b[0m in \u001b[0;36m<module>\u001b[0;34m\u001b[0m\n\u001b[1;32m     <a href='vscode-notebook-cell://dev-container%2B2f686f6d652f646f6d696e697175656672616e736f6e2f4465736b746f702f3436312d4541542d50726f6a656374/workspaces/461-EAT-Project/Code/Postprocessing.ipynb#ch0000007vscode-remote?line=32'>33</a>\u001b[0m \u001b[39mfor\u001b[39;00m x \u001b[39min\u001b[39;00m \u001b[39mrange\u001b[39m(\u001b[39m0\u001b[39m,\u001b[39m512\u001b[39m):\n\u001b[1;32m     <a href='vscode-notebook-cell://dev-container%2B2f686f6d652f646f6d696e697175656672616e736f6e2f4465736b746f702f3436312d4541542d50726f6a656374/workspaces/461-EAT-Project/Code/Postprocessing.ipynb#ch0000007vscode-remote?line=33'>34</a>\u001b[0m     \u001b[39mfor\u001b[39;00m y \u001b[39min\u001b[39;00m \u001b[39mrange\u001b[39m(\u001b[39m0\u001b[39m,\u001b[39m512\u001b[39m):\n\u001b[0;32m---> <a href='vscode-notebook-cell://dev-container%2B2f686f6d652f646f6d696e697175656672616e736f6e2f4465736b746f702f3436312d4541542d50726f6a656374/workspaces/461-EAT-Project/Code/Postprocessing.ipynb#ch0000007vscode-remote?line=34'>35</a>\u001b[0m         maskedSlice[x,y] \u001b[39m=\u001b[39m (maskedSlice[x,y]\u001b[39m>\u001b[39m\u001b[39m0\u001b[39m) \u001b[39mand\u001b[39;00m (maskedSlice[x,y]\u001b[39m<\u001b[39m\u001b[39m1\u001b[39m)\n\u001b[1;32m     <a href='vscode-notebook-cell://dev-container%2B2f686f6d652f646f6d696e697175656672616e736f6e2f4465736b746f702f3436312d4541542d50726f6a656374/workspaces/461-EAT-Project/Code/Postprocessing.ipynb#ch0000007vscode-remote?line=35'>36</a>\u001b[0m maskedSlice \u001b[39m=\u001b[39m maskedSlice \u001b[39m*\u001b[39m ((\u001b[39m2\u001b[39m\u001b[39m*\u001b[39m\u001b[39m*\u001b[39mbitDepth)\u001b[39m-\u001b[39m\u001b[39m1\u001b[39m) \u001b[39m# Scale to bitdepth\u001b[39;00m\n\u001b[1;32m     <a href='vscode-notebook-cell://dev-container%2B2f686f6d652f646f6d696e697175656672616e736f6e2f4465736b746f702f3436312d4541542d50726f6a656374/workspaces/461-EAT-Project/Code/Postprocessing.ipynb#ch0000007vscode-remote?line=36'>37</a>\u001b[0m maskedSlice \u001b[39m=\u001b[39m np\u001b[39m.\u001b[39mfloor(maskedSlice) \u001b[39m# Floor to integer\u001b[39;00m\n",
      "\u001b[0;31mKeyboardInterrupt\u001b[0m: "
     ]
    }
   ],
   "source": [
    "CombinedTestImageDir = TestDataRootDir + '/AllImages'\n",
    "CombinedTestMaskDir = TestDataRootDir + '/AllMasks'\n",
    "CombinedTestOutputMaskDir = TestDataRootDir + '/AllOutputMasks'\n",
    "CombinedTestOutputImageDir = TestDataRootDir + '/AllOutputImages'\n",
    "os.makedirs(CombinedTestOutputImageDir, exist_ok=True)\n",
    "\n",
    "# fat\n",
    "window = 80 \n",
    "level = -110\n",
    "\n",
    "currentImageIndex = 0\n",
    "subjects = os.listdir(TestDataRootDir)\n",
    "for subject in subjects:\n",
    "    if not (subject == 'AllImages' or subject == 'AllMasks' or subject == 'AllOutputImages' or subject == 'AllOutputMasks'):\n",
    "        currentSubjectDir = TestDataRootDir + \"/\" + subject;\n",
    "        print(currentSubjectDir)\n",
    "\n",
    "        volume_dicoms = os.listdir(currentSubjectDir + '/Dicom/Vol/')\n",
    "        dataset_vol = [None] * (len(volume_dicoms))\n",
    "        for dicom in volume_dicoms:\n",
    "            slice_number = int(dicom.split('Slice')[1].split('.dcm')[0])\n",
    "            dataset_vol[slice_number-1] = pydicom.dcmread(currentSubjectDir+'/Dicom/Vol/'+dicom)\n",
    "\n",
    "        for i in range(1, len(dataset_vol)-1):\n",
    "            sliceRGB = np.zeros((dataset_vol[i].pixel_array.shape[0],dataset_vol[i].pixel_array.shape[1],3))\n",
    "            test_mask_result_path = os.path.join(CombinedTestOutputMaskDir,\"%d.png\"%currentImageIndex)\n",
    "            resultMaskIn = io.imread(test_mask_result_path,as_gray = False)\n",
    "            resultMaskScaled = resultMaskIn[:,:,1] / 255\n",
    "            resultMaskResized = trans.resize(resultMaskScaled,(512,512))\n",
    "            resultMask = resultMaskResized > 0.5\n",
    "            maskedSlice = dataset_vol[i].pixel_array * resultMask\n",
    "            maskedSlice = np.clip((maskedSlice - (level-window/2)) / window, 0,1) # Apply fat window/level and clip to 0->1 range\n",
    "            for x in range(0,512):\n",
    "                for y in range(0,512):\n",
    "                    maskedSlice[x,y] = (maskedSlice[x,y]>0) and (maskedSlice[x,y]<1)\n",
    "            maskedSlice = maskedSlice * ((2**bitDepth)-1) # Scale to bitdepth\n",
    "            maskedSlice = np.floor(maskedSlice) # Floor to integer\n",
    "            sliceRGB[:,:,0] = maskedSlice\n",
    "            sliceRGB[:,:,1] = maskedSlice\n",
    "            sliceRGB[:,:,2] = maskedSlice\n",
    "            matplotlib.image.imsave(os.path.join(CombinedTestOutputImageDir,\"%d.png\"%currentImageIndex), sliceRGB.astype(np.uint8))\n",
    "            currentImageIndex = currentImageIndex + 1"
   ]
  },
  {
   "cell_type": "markdown",
   "metadata": {},
   "source": [
    "Apply Original Fat Masks and Isolate Fat by HU\n",
    "----"
   ]
  },
  {
   "cell_type": "code",
   "execution_count": 7,
   "metadata": {},
   "outputs": [
    {
     "name": "stdout",
     "output_type": "stream",
     "text": [
      "../Test Data/SA201\n",
      "../Test Data/CA024\n",
      "../Test Data/CA039\n",
      "../Test Data/CA036\n",
      "../Test Data/CA061\n",
      "../Test Data/CA020\n"
     ]
    },
    {
     "ename": "FileNotFoundError",
     "evalue": "No such file: '/workspaces/461-EAT-Project/Test Data/AllOutputMasks/320.png'",
     "output_type": "error",
     "traceback": [
      "\u001b[0;31m---------------------------------------------------------------------------\u001b[0m",
      "\u001b[0;31mFileNotFoundError\u001b[0m                         Traceback (most recent call last)",
      "\u001b[1;32m/workspaces/461-EAT-Project/Code/Postprocessing.ipynb Cell 8'\u001b[0m in \u001b[0;36m<module>\u001b[0;34m\u001b[0m\n\u001b[1;32m     <a href='vscode-notebook-cell://dev-container%2B2f686f6d652f646f6d696e697175656672616e736f6e2f4465736b746f702f3436312d4541542d50726f6a656374/workspaces/461-EAT-Project/Code/Postprocessing.ipynb#ch0000010vscode-remote?line=48'>49</a>\u001b[0m maskedSlice_input \u001b[39m=\u001b[39m np\u001b[39m.\u001b[39mclip((maskedSlice_input \u001b[39m-\u001b[39m (fatLevel\u001b[39m-\u001b[39mfatWindow\u001b[39m/\u001b[39m\u001b[39m2\u001b[39m)) \u001b[39m/\u001b[39m fatWindow, \u001b[39m0\u001b[39m,\u001b[39m1\u001b[39m) \u001b[39m# Apply fat window/level and clip to 0->1 range\u001b[39;00m\n\u001b[1;32m     <a href='vscode-notebook-cell://dev-container%2B2f686f6d652f646f6d696e697175656672616e736f6e2f4465736b746f702f3436312d4541542d50726f6a656374/workspaces/461-EAT-Project/Code/Postprocessing.ipynb#ch0000010vscode-remote?line=51'>52</a>\u001b[0m test_mask_result_path \u001b[39m=\u001b[39m os\u001b[39m.\u001b[39mpath\u001b[39m.\u001b[39mjoin(CombinedTestOutputMaskDir,\u001b[39m\"\u001b[39m\u001b[39m%d\u001b[39;00m\u001b[39m.png\u001b[39m\u001b[39m\"\u001b[39m\u001b[39m%\u001b[39mcurrentImageIndex)\n\u001b[0;32m---> <a href='vscode-notebook-cell://dev-container%2B2f686f6d652f646f6d696e697175656672616e736f6e2f4465736b746f702f3436312d4541542d50726f6a656374/workspaces/461-EAT-Project/Code/Postprocessing.ipynb#ch0000010vscode-remote?line=52'>53</a>\u001b[0m MaskIn_result \u001b[39m=\u001b[39m io\u001b[39m.\u001b[39;49mimread(test_mask_result_path,as_gray \u001b[39m=\u001b[39;49m \u001b[39mFalse\u001b[39;49;00m)\n\u001b[1;32m     <a href='vscode-notebook-cell://dev-container%2B2f686f6d652f646f6d696e697175656672616e736f6e2f4465736b746f702f3436312d4541542d50726f6a656374/workspaces/461-EAT-Project/Code/Postprocessing.ipynb#ch0000010vscode-remote?line=53'>54</a>\u001b[0m MaskScaled_result \u001b[39m=\u001b[39m MaskIn_result[:,:,\u001b[39m1\u001b[39m] \u001b[39m/\u001b[39m \u001b[39m255\u001b[39m\n\u001b[1;32m     <a href='vscode-notebook-cell://dev-container%2B2f686f6d652f646f6d696e697175656672616e736f6e2f4465736b746f702f3436312d4541542d50726f6a656374/workspaces/461-EAT-Project/Code/Postprocessing.ipynb#ch0000010vscode-remote?line=54'>55</a>\u001b[0m MaskResized_result \u001b[39m=\u001b[39m trans\u001b[39m.\u001b[39mresize(MaskScaled_result,(\u001b[39m512\u001b[39m,\u001b[39m512\u001b[39m))\n",
      "File \u001b[0;32m/usr/local/lib/python3.8/dist-packages/skimage/io/_io.py:53\u001b[0m, in \u001b[0;36mimread\u001b[0;34m(fname, as_gray, plugin, **plugin_args)\u001b[0m\n\u001b[1;32m     <a href='file:///usr/local/lib/python3.8/dist-packages/skimage/io/_io.py?line=49'>50</a>\u001b[0m         plugin \u001b[39m=\u001b[39m \u001b[39m'\u001b[39m\u001b[39mtifffile\u001b[39m\u001b[39m'\u001b[39m\n\u001b[1;32m     <a href='file:///usr/local/lib/python3.8/dist-packages/skimage/io/_io.py?line=51'>52</a>\u001b[0m \u001b[39mwith\u001b[39;00m file_or_url_context(fname) \u001b[39mas\u001b[39;00m fname:\n\u001b[0;32m---> <a href='file:///usr/local/lib/python3.8/dist-packages/skimage/io/_io.py?line=52'>53</a>\u001b[0m     img \u001b[39m=\u001b[39m call_plugin(\u001b[39m'\u001b[39;49m\u001b[39mimread\u001b[39;49m\u001b[39m'\u001b[39;49m, fname, plugin\u001b[39m=\u001b[39;49mplugin, \u001b[39m*\u001b[39;49m\u001b[39m*\u001b[39;49mplugin_args)\n\u001b[1;32m     <a href='file:///usr/local/lib/python3.8/dist-packages/skimage/io/_io.py?line=54'>55</a>\u001b[0m \u001b[39mif\u001b[39;00m \u001b[39mnot\u001b[39;00m \u001b[39mhasattr\u001b[39m(img, \u001b[39m'\u001b[39m\u001b[39mndim\u001b[39m\u001b[39m'\u001b[39m):\n\u001b[1;32m     <a href='file:///usr/local/lib/python3.8/dist-packages/skimage/io/_io.py?line=55'>56</a>\u001b[0m     \u001b[39mreturn\u001b[39;00m img\n",
      "File \u001b[0;32m/usr/local/lib/python3.8/dist-packages/skimage/io/manage_plugins.py:207\u001b[0m, in \u001b[0;36mcall_plugin\u001b[0;34m(kind, *args, **kwargs)\u001b[0m\n\u001b[1;32m    <a href='file:///usr/local/lib/python3.8/dist-packages/skimage/io/manage_plugins.py?line=202'>203</a>\u001b[0m     \u001b[39mexcept\u001b[39;00m \u001b[39mIndexError\u001b[39;00m:\n\u001b[1;32m    <a href='file:///usr/local/lib/python3.8/dist-packages/skimage/io/manage_plugins.py?line=203'>204</a>\u001b[0m         \u001b[39mraise\u001b[39;00m \u001b[39mRuntimeError\u001b[39;00m(\u001b[39m'\u001b[39m\u001b[39mCould not find the plugin \u001b[39m\u001b[39m\"\u001b[39m\u001b[39m%s\u001b[39;00m\u001b[39m\"\u001b[39m\u001b[39m for \u001b[39m\u001b[39m%s\u001b[39;00m\u001b[39m.\u001b[39m\u001b[39m'\u001b[39m \u001b[39m%\u001b[39m\n\u001b[1;32m    <a href='file:///usr/local/lib/python3.8/dist-packages/skimage/io/manage_plugins.py?line=204'>205</a>\u001b[0m                            (plugin, kind))\n\u001b[0;32m--> <a href='file:///usr/local/lib/python3.8/dist-packages/skimage/io/manage_plugins.py?line=206'>207</a>\u001b[0m \u001b[39mreturn\u001b[39;00m func(\u001b[39m*\u001b[39;49margs, \u001b[39m*\u001b[39;49m\u001b[39m*\u001b[39;49mkwargs)\n",
      "File \u001b[0;32m/usr/local/lib/python3.8/dist-packages/skimage/io/_plugins/imageio_plugin.py:10\u001b[0m, in \u001b[0;36mimread\u001b[0;34m(*args, **kwargs)\u001b[0m\n\u001b[1;32m      <a href='file:///usr/local/lib/python3.8/dist-packages/skimage/io/_plugins/imageio_plugin.py?line=7'>8</a>\u001b[0m \u001b[39m@wraps\u001b[39m(imageio_imread)\n\u001b[1;32m      <a href='file:///usr/local/lib/python3.8/dist-packages/skimage/io/_plugins/imageio_plugin.py?line=8'>9</a>\u001b[0m \u001b[39mdef\u001b[39;00m \u001b[39mimread\u001b[39m(\u001b[39m*\u001b[39margs, \u001b[39m*\u001b[39m\u001b[39m*\u001b[39mkwargs):\n\u001b[0;32m---> <a href='file:///usr/local/lib/python3.8/dist-packages/skimage/io/_plugins/imageio_plugin.py?line=9'>10</a>\u001b[0m     \u001b[39mreturn\u001b[39;00m np\u001b[39m.\u001b[39masarray(imageio_imread(\u001b[39m*\u001b[39;49margs, \u001b[39m*\u001b[39;49m\u001b[39m*\u001b[39;49mkwargs))\n",
      "File \u001b[0;32m/usr/local/lib/python3.8/dist-packages/imageio/__init__.py:96\u001b[0m, in \u001b[0;36mimread\u001b[0;34m(uri, format, **kwargs)\u001b[0m\n\u001b[1;32m     <a href='file:///usr/local/lib/python3.8/dist-packages/imageio/__init__.py?line=67'>68</a>\u001b[0m \u001b[39m\"\"\"imread(uri, format=None, **kwargs)\u001b[39;00m\n\u001b[1;32m     <a href='file:///usr/local/lib/python3.8/dist-packages/imageio/__init__.py?line=68'>69</a>\u001b[0m \n\u001b[1;32m     <a href='file:///usr/local/lib/python3.8/dist-packages/imageio/__init__.py?line=69'>70</a>\u001b[0m \u001b[39mReads an image from the specified file. Returns a numpy array, which\u001b[39;00m\n\u001b[0;32m   (...)\u001b[0m\n\u001b[1;32m     <a href='file:///usr/local/lib/python3.8/dist-packages/imageio/__init__.py?line=85'>86</a>\u001b[0m \u001b[39m    to see what arguments are available for a particular format.\u001b[39;00m\n\u001b[1;32m     <a href='file:///usr/local/lib/python3.8/dist-packages/imageio/__init__.py?line=86'>87</a>\u001b[0m \u001b[39m\"\"\"\u001b[39;00m\n\u001b[1;32m     <a href='file:///usr/local/lib/python3.8/dist-packages/imageio/__init__.py?line=88'>89</a>\u001b[0m warnings\u001b[39m.\u001b[39mwarn(\n\u001b[1;32m     <a href='file:///usr/local/lib/python3.8/dist-packages/imageio/__init__.py?line=89'>90</a>\u001b[0m     \u001b[39m\"\u001b[39m\u001b[39mStarting with ImageIO v3 the behavior of this function will switch to that of\u001b[39m\u001b[39m\"\u001b[39m\n\u001b[1;32m     <a href='file:///usr/local/lib/python3.8/dist-packages/imageio/__init__.py?line=90'>91</a>\u001b[0m     \u001b[39m\"\u001b[39m\u001b[39m iio.v3.imread. To keep the current behavior (and make this warning dissapear)\u001b[39m\u001b[39m\"\u001b[39m\n\u001b[1;32m     <a href='file:///usr/local/lib/python3.8/dist-packages/imageio/__init__.py?line=91'>92</a>\u001b[0m     \u001b[39m\"\u001b[39m\u001b[39m use `import imageio.v2 as imageio` or call `imageio.v2.imread` directly.\u001b[39m\u001b[39m\"\u001b[39m,\n\u001b[1;32m     <a href='file:///usr/local/lib/python3.8/dist-packages/imageio/__init__.py?line=92'>93</a>\u001b[0m     \u001b[39mDeprecationWarning\u001b[39;00m,\n\u001b[1;32m     <a href='file:///usr/local/lib/python3.8/dist-packages/imageio/__init__.py?line=93'>94</a>\u001b[0m )\n\u001b[0;32m---> <a href='file:///usr/local/lib/python3.8/dist-packages/imageio/__init__.py?line=95'>96</a>\u001b[0m \u001b[39mreturn\u001b[39;00m imread_v2(uri, \u001b[39mformat\u001b[39;49m\u001b[39m=\u001b[39;49m\u001b[39mformat\u001b[39;49m, \u001b[39m*\u001b[39;49m\u001b[39m*\u001b[39;49mkwargs)\n",
      "File \u001b[0;32m/usr/local/lib/python3.8/dist-packages/imageio/v2.py:200\u001b[0m, in \u001b[0;36mimread\u001b[0;34m(uri, format, **kwargs)\u001b[0m\n\u001b[1;32m    <a href='file:///usr/local/lib/python3.8/dist-packages/imageio/v2.py?line=196'>197</a>\u001b[0m imopen_args \u001b[39m=\u001b[39m decypher_format_arg(\u001b[39mformat\u001b[39m)\n\u001b[1;32m    <a href='file:///usr/local/lib/python3.8/dist-packages/imageio/v2.py?line=197'>198</a>\u001b[0m imopen_args[\u001b[39m\"\u001b[39m\u001b[39mlegacy_mode\u001b[39m\u001b[39m\"\u001b[39m] \u001b[39m=\u001b[39m \u001b[39mTrue\u001b[39;00m\n\u001b[0;32m--> <a href='file:///usr/local/lib/python3.8/dist-packages/imageio/v2.py?line=199'>200</a>\u001b[0m \u001b[39mwith\u001b[39;00m imopen(uri, \u001b[39m\"\u001b[39;49m\u001b[39mri\u001b[39;49m\u001b[39m\"\u001b[39;49m, \u001b[39m*\u001b[39;49m\u001b[39m*\u001b[39;49mimopen_args) \u001b[39mas\u001b[39;00m file:\n\u001b[1;32m    <a href='file:///usr/local/lib/python3.8/dist-packages/imageio/v2.py?line=200'>201</a>\u001b[0m     \u001b[39mreturn\u001b[39;00m file\u001b[39m.\u001b[39mread(index\u001b[39m=\u001b[39m\u001b[39m0\u001b[39m, \u001b[39m*\u001b[39m\u001b[39m*\u001b[39mkwargs)\n",
      "File \u001b[0;32m/usr/local/lib/python3.8/dist-packages/imageio/core/imopen.py:110\u001b[0m, in \u001b[0;36mimopen\u001b[0;34m(uri, io_mode, plugin, format_hint, legacy_mode, **kwargs)\u001b[0m\n\u001b[1;32m    <a href='file:///usr/local/lib/python3.8/dist-packages/imageio/core/imopen.py?line=107'>108</a>\u001b[0m     request\u001b[39m.\u001b[39mformat_hint \u001b[39m=\u001b[39m format_hint\n\u001b[1;32m    <a href='file:///usr/local/lib/python3.8/dist-packages/imageio/core/imopen.py?line=108'>109</a>\u001b[0m \u001b[39melse\u001b[39;00m:\n\u001b[0;32m--> <a href='file:///usr/local/lib/python3.8/dist-packages/imageio/core/imopen.py?line=109'>110</a>\u001b[0m     request \u001b[39m=\u001b[39m Request(uri, io_mode, format_hint\u001b[39m=\u001b[39;49mformat_hint)\n\u001b[1;32m    <a href='file:///usr/local/lib/python3.8/dist-packages/imageio/core/imopen.py?line=111'>112</a>\u001b[0m source \u001b[39m=\u001b[39m \u001b[39m\"\u001b[39m\u001b[39m<bytes>\u001b[39m\u001b[39m\"\u001b[39m \u001b[39mif\u001b[39;00m \u001b[39misinstance\u001b[39m(uri, \u001b[39mbytes\u001b[39m) \u001b[39melse\u001b[39;00m uri\n\u001b[1;32m    <a href='file:///usr/local/lib/python3.8/dist-packages/imageio/core/imopen.py?line=113'>114</a>\u001b[0m \u001b[39m# fast-path based on plugin\u001b[39;00m\n\u001b[1;32m    <a href='file:///usr/local/lib/python3.8/dist-packages/imageio/core/imopen.py?line=114'>115</a>\u001b[0m \u001b[39m# (except in legacy mode)\u001b[39;00m\n",
      "File \u001b[0;32m/usr/local/lib/python3.8/dist-packages/imageio/core/request.py:248\u001b[0m, in \u001b[0;36mRequest.__init__\u001b[0;34m(self, uri, mode, format_hint, **kwargs)\u001b[0m\n\u001b[1;32m    <a href='file:///usr/local/lib/python3.8/dist-packages/imageio/core/request.py?line=244'>245</a>\u001b[0m     \u001b[39mraise\u001b[39;00m \u001b[39mValueError\u001b[39;00m(\u001b[39mf\u001b[39m\u001b[39m\"\u001b[39m\u001b[39mInvalid Request.Mode: \u001b[39m\u001b[39m{\u001b[39;00mmode\u001b[39m}\u001b[39;00m\u001b[39m\"\u001b[39m)\n\u001b[1;32m    <a href='file:///usr/local/lib/python3.8/dist-packages/imageio/core/request.py?line=246'>247</a>\u001b[0m \u001b[39m# Parse what was given\u001b[39;00m\n\u001b[0;32m--> <a href='file:///usr/local/lib/python3.8/dist-packages/imageio/core/request.py?line=247'>248</a>\u001b[0m \u001b[39mself\u001b[39;49m\u001b[39m.\u001b[39;49m_parse_uri(uri)\n\u001b[1;32m    <a href='file:///usr/local/lib/python3.8/dist-packages/imageio/core/request.py?line=249'>250</a>\u001b[0m \u001b[39m# Set extension\u001b[39;00m\n\u001b[1;32m    <a href='file:///usr/local/lib/python3.8/dist-packages/imageio/core/request.py?line=250'>251</a>\u001b[0m \u001b[39mif\u001b[39;00m \u001b[39mself\u001b[39m\u001b[39m.\u001b[39m_filename \u001b[39mis\u001b[39;00m \u001b[39mnot\u001b[39;00m \u001b[39mNone\u001b[39;00m:\n",
      "File \u001b[0;32m/usr/local/lib/python3.8/dist-packages/imageio/core/request.py:388\u001b[0m, in \u001b[0;36mRequest._parse_uri\u001b[0;34m(self, uri)\u001b[0m\n\u001b[1;32m    <a href='file:///usr/local/lib/python3.8/dist-packages/imageio/core/request.py?line=384'>385</a>\u001b[0m \u001b[39mif\u001b[39;00m is_read_request:\n\u001b[1;32m    <a href='file:///usr/local/lib/python3.8/dist-packages/imageio/core/request.py?line=385'>386</a>\u001b[0m     \u001b[39m# Reading: check that the file exists (but is allowed a dir)\u001b[39;00m\n\u001b[1;32m    <a href='file:///usr/local/lib/python3.8/dist-packages/imageio/core/request.py?line=386'>387</a>\u001b[0m     \u001b[39mif\u001b[39;00m \u001b[39mnot\u001b[39;00m os\u001b[39m.\u001b[39mpath\u001b[39m.\u001b[39mexists(fn):\n\u001b[0;32m--> <a href='file:///usr/local/lib/python3.8/dist-packages/imageio/core/request.py?line=387'>388</a>\u001b[0m         \u001b[39mraise\u001b[39;00m \u001b[39mFileNotFoundError\u001b[39;00m(\u001b[39m\"\u001b[39m\u001b[39mNo such file: \u001b[39m\u001b[39m'\u001b[39m\u001b[39m%s\u001b[39;00m\u001b[39m'\u001b[39m\u001b[39m\"\u001b[39m \u001b[39m%\u001b[39m fn)\n\u001b[1;32m    <a href='file:///usr/local/lib/python3.8/dist-packages/imageio/core/request.py?line=388'>389</a>\u001b[0m \u001b[39melse\u001b[39;00m:\n\u001b[1;32m    <a href='file:///usr/local/lib/python3.8/dist-packages/imageio/core/request.py?line=389'>390</a>\u001b[0m     \u001b[39m# Writing: check that the directory to write to does exist\u001b[39;00m\n\u001b[1;32m    <a href='file:///usr/local/lib/python3.8/dist-packages/imageio/core/request.py?line=390'>391</a>\u001b[0m     dn \u001b[39m=\u001b[39m os\u001b[39m.\u001b[39mpath\u001b[39m.\u001b[39mdirname(fn)\n",
      "\u001b[0;31mFileNotFoundError\u001b[0m: No such file: '/workspaces/461-EAT-Project/Test Data/AllOutputMasks/320.png'"
     ]
    }
   ],
   "source": [
    "CombinedTestImageDir = TestDataRootDir + '/AllImages'\n",
    "CombinedTestMaskDir = TestDataRootDir + '/AllMasks'\n",
    "CombinedTestOutputMaskDir = TestDataRootDir + '/AllOutputMasks'\n",
    "CombinedTestOutputImageDir = TestDataRootDir + '/AllOutputImages'\n",
    "CombinedTestReferenceImageDir = TestDataRootDir + '/AllReferenceImages'\n",
    "CombinedTestOutputCombinedImageDir = TestDataRootDir + '/AllCombinedResultImages'\n",
    "os.makedirs(CombinedTestOutputImageDir, exist_ok=True)\n",
    "os.makedirs(CombinedTestReferenceImageDir, exist_ok=True)\n",
    "os.makedirs(CombinedTestOutputCombinedImageDir, exist_ok=True)\n",
    "\n",
    "\n",
    "window = 350 # Window/Level from Hoori et al (\"HU-attention-window with a window/level of 350/40 HU\")\n",
    "level = 40\n",
    "# fat\n",
    "fatWindow = 80 \n",
    "fatLevel = -110\n",
    "\n",
    "currentImageIndex = 0\n",
    "subjects = os.listdir(TestDataRootDir)\n",
    "subjectVoxelCountsReference = []\n",
    "subjectVoxelCountsResults = []\n",
    "\n",
    "for subject in subjects:\n",
    "    if not (subject == 'AllImages' or subject == 'AllMasks' or subject == 'AllOutputImages' or subject == 'AllOutputMasks' or subject == 'AllReferenceImages' or subject == 'AllCombinedResultImages'):\n",
    "        currentSubjectDir = TestDataRootDir + \"/\" + subject\n",
    "        print(currentSubjectDir)\n",
    "        subjectVoxelCountReference = 0\n",
    "        subjectVoxelCountResults = 0\n",
    "\n",
    "        volume_dicoms = os.listdir(currentSubjectDir + '/Dicom/Vol/')\n",
    "        dataset_vol = [None] * (len(volume_dicoms))\n",
    "        for dicom in volume_dicoms:\n",
    "            slice_number = int(dicom.split('Slice')[1].split('.dcm')[0])\n",
    "            dataset_vol[slice_number-1] = pydicom.dcmread(currentSubjectDir+'/Dicom/Vol/'+dicom)\n",
    "\n",
    "        for i in range(1, len(dataset_vol)-1):\n",
    "            sliceRGB = np.zeros((dataset_vol[i].pixel_array.shape[0],dataset_vol[i].pixel_array.shape[1],3))\n",
    "            originalInput = dataset_vol[i].pixel_array\n",
    "            windowLeveledOriginalInput = np.clip((originalInput - (level-window/2)) / window, 0,1) # Apply fat window/level and clip to 0->1 range\n",
    "            windowLeveledOriginalInput = windowLeveledOriginalInput * ((2**bitDepth)-1) # Scale to bitdepth\n",
    "            windowLeveledOriginalInput = np.floor(windowLeveledOriginalInput) # Floor to integer\n",
    "\n",
    "            test_mask_input_path = os.path.join(CombinedTestMaskDir,\"%d.png\"%currentImageIndex)\n",
    "            MaskIn_input = io.imread(test_mask_input_path,as_gray = False)\n",
    "            MaskScaled_input = MaskIn_input[:,:,1] / 255\n",
    "            MaskResized_input = trans.resize(MaskScaled_input,(512,512))\n",
    "            Mask_input = MaskResized_input > 0.5\n",
    "            maskedSlice_input = originalInput * Mask_input\n",
    "            maskedSlice_input = np.clip((maskedSlice_input - (fatLevel-fatWindow/2)) / fatWindow, 0,1) # Apply fat window/level and clip to 0->1 range\n",
    "\n",
    "\n",
    "            test_mask_result_path = os.path.join(CombinedTestOutputMaskDir,\"%d.png\"%currentImageIndex)\n",
    "            MaskIn_result = io.imread(test_mask_result_path,as_gray = False)\n",
    "            MaskScaled_result = MaskIn_result[:,:,1] / 255\n",
    "            MaskResized_result = trans.resize(MaskScaled_result,(512,512))\n",
    "            Mask_result = MaskResized_result > 0.5\n",
    "            maskedSlice_result = originalInput * Mask_result\n",
    "            maskedSlice_result = np.clip((maskedSlice_result - (fatLevel-fatWindow/2)) / fatWindow, 0,1) # Apply fat window/level and clip to 0->1 range\n",
    "\n",
    "            for x in range(0,512):\n",
    "                for y in range(0,512):\n",
    "                    maskedSlice_input[x,y] = (maskedSlice_input[x,y]>0) and (maskedSlice_input[x,y]<1)\n",
    "                    maskedSlice_result[x,y] = (maskedSlice_result[x,y]>0) and (maskedSlice_result[x,y]<1)\n",
    "\n",
    "            subjectVoxelCountReference = subjectVoxelCountReference + np.count_nonzero(maskedSlice_input)\n",
    "            maskedSlice_input_scaled = maskedSlice_input * ((2**bitDepth)-1) # Scale to bitdepth\n",
    "            maskedSlice_input_scaled = np.floor(maskedSlice_input_scaled) # Floor to integer\n",
    "\n",
    "            subjectVoxelCountResults = subjectVoxelCountResults + np.count_nonzero(maskedSlice_result)\n",
    "            maskedSlice_result_scaled = maskedSlice_result * ((2**bitDepth)-1) # Scale to bitdepth\n",
    "            maskedSlice_result_scaled = np.floor(maskedSlice_result_scaled) # Floor to integer\n",
    "\n",
    "            # Save original fat mask\n",
    "            sliceRGB[:,:,0] = (windowLeveledOriginalInput * 0.5) + (0.5 * maskedSlice_input_scaled)\n",
    "            sliceRGB[:,:,1] = (windowLeveledOriginalInput * 0.5) \n",
    "            sliceRGB[:,:,2] = (windowLeveledOriginalInput * 0.5) \n",
    "            matplotlib.image.imsave(os.path.join(CombinedTestReferenceImageDir,\"%d.png\"%currentImageIndex), sliceRGB.astype(np.uint8))\n",
    "\n",
    "            # Save AI fat mask\n",
    "            sliceRGB[:,:,0] = (windowLeveledOriginalInput * 0.5) \n",
    "            sliceRGB[:,:,1] = (windowLeveledOriginalInput * 0.5) \n",
    "            sliceRGB[:,:,2] = (windowLeveledOriginalInput * 0.5) + (0.5 * maskedSlice_result_scaled)\n",
    "            matplotlib.image.imsave(os.path.join(CombinedTestOutputImageDir,\"%d.png\"%currentImageIndex), sliceRGB.astype(np.uint8))\n",
    "\n",
    "            # Save Combined fat mask\n",
    "            sliceRGB[:,:,0] = (windowLeveledOriginalInput * 0.5) + (0.5 * maskedSlice_input_scaled)\n",
    "            sliceRGB[:,:,1] = (windowLeveledOriginalInput * 0.5) \n",
    "            sliceRGB[:,:,2] = (windowLeveledOriginalInput * 0.5) + (0.5 * maskedSlice_result_scaled)\n",
    "            matplotlib.image.imsave(os.path.join(CombinedTestOutputCombinedImageDir,\"%d.png\"%currentImageIndex), sliceRGB.astype(np.uint8))\n",
    "\n",
    "            currentImageIndex = currentImageIndex + 1\n",
    "        subjectVoxelCountsReference.append(subjectVoxelCountReference)\n",
    "        subjectVoxelCountsResults.append(subjectVoxelCountResults)\n"
   ]
  },
  {
   "cell_type": "code",
   "execution_count": 10,
   "metadata": {},
   "outputs": [],
   "source": [
    "totalEATVolumeReference = []\n",
    "totalEATVolumeResult = []\n",
    "EATVolumeError = []\n",
    "EATPercentError = []\n",
    "for subjectNumber in range(0,len(subjectVoxelCountsResults)):\n",
    "    totalEATVolumeReference.append(subjectVoxelCountsReference[subjectNumber]*2.5*0.8671875*0.8671875)\n",
    "    totalEATVolumeResult.append(subjectVoxelCountsResults[subjectNumber]*2.5*0.8671875*0.8671875)\n",
    "    EATVolumeError.append(np.abs(totalEATVolumeReference[subjectNumber] - totalEATVolumeResult[subjectNumber]))\n",
    "    EATPercentError.append(EATVolumeError[subjectNumber] / totalEATVolumeResult[subjectNumber])"
   ]
  },
  {
   "cell_type": "code",
   "execution_count": 11,
   "metadata": {},
   "outputs": [
    {
     "data": {
      "image/png": "[encoded data removed]",
      "text/plain": [
       "<Figure size 640x480 with 1 Axes>"
      ]
     },
     "metadata": {},
     "output_type": "display_data"
    },
    {
     "name": "stdout",
     "output_type": "stream",
     "text": [
      "[37775.55130004883, 26406.97723388672, 89348.68240356445, 75729.70596313477, 16839.477081298828]\n",
      "[0.4273560627007253, 0.17547848683224226, 0.5074854775328891, 0.38886904474586087, 0.35632732625213825]\n"
     ]
    }
   ],
   "source": [
    "subjectNumbers = range(0,len(subjectVoxelCountsResults))\n",
    "\n",
    "X = np.arange(len(subjectVoxelCountsResults))\n",
    "fig=plt.figure()\n",
    "ax = fig.add_axes([0,0,1,1])\n",
    "ax.bar(X - 0.2, totalEATVolumeReference, color = 'r', width = 0.4)\n",
    "ax.bar(X + 0.2, totalEATVolumeResult, color = 'b', width = 0.4)\n",
    "ax.set_xlabel(\"Subject\")\n",
    "ax.set_ylabel(\"EAT Volume (mm^3)\")\n",
    "plt.show()\n",
    "\n",
    "print(EATVolumeError)\n",
    "print(EATPercentError)"
   ]
  },
  {
   "cell_type": "code",
   "execution_count": 12,
   "metadata": {},
   "outputs": [
    {
     "name": "stdout",
     "output_type": "stream",
     "text": [
      "0.3711032796127712\n",
      "0.11006133769273133\n"
     ]
    }
   ],
   "source": [
    "print(np.mean(EATPercentError))\n",
    "print(np.std(EATPercentError))"
   ]
  },
  {
   "cell_type": "markdown",
   "metadata": {},
   "source": [
    "## Total Volume References:\n",
    "[111377.0571899414, 110123.07357788086, 141055.2960205078, 49334.00894165039, 201865.04104614258, 146345.71563720703, 150350.19104003906, 89871.33224487305, 433859.5294189453, 168212.4073791504, 175849.1111755371, 70238.12255859375, 85733.37432861328, 26002.769622802734, 197375.51651000977, 126169.17572021484, 124078.57635498047, 94560.14053344727, 70288.8835144043, 138603.72985839844, 104048.67919921875, 74361.04019165039, 109348.49899291992, 77607.861328125, 188766.8344116211, 354473.1546020508, 86712.8727722168, 31246.188354492188, 69080.02075195312, 118532.47192382812, 119013.76098632812, 52513.14880371094, 30418.972778320312, 43881.90628051758, 32849.85855102539, 225440.68496704102, 98164.1683959961, 65402.67150878906, 154948.75762939453, 57878.76983642578]\n",
    "\n",
    "## Total Volume Results:\n",
    "[96977.86605834961, 81445.01358032227, 185926.10092163086, 85090.40222167969, 181489.21737670898, 255823.9370727539, 162111.6925048828, 330476.38275146484, 454485.39779663086, 223226.00326538086, 105069.53842163086, 72405.80337524414, 310444.60556030273, 56585.30548095703, 131232.1110534668, 121204.0022277832, 174632.72827148438, 128051.09115600586, 183258.33068847656, 193852.33016967773, 74297.11898803711, 285825.5419921875, 80668.55895996094, 108562.64419555664, 403231.87271118164, 199492.4363708496, 262603.3447265625, 58326.21826171875, 64041.52587890625, 232440.0567626953, 165612.31842041016, 208969.69482421875, 165824.7624206543, 62996.22619628906, 63473.75518798828, 150274.98962402344, 197445.07781982422, 107855.75088500977, 144668.7240600586, 135236.58645629883]\n",
    "\n",
    "## Volume Errors:\n",
    "[14399.191131591797, 28678.059997558594, 44870.80490112305, 35756.3932800293, 20375.823669433594, 109478.22143554688, 11761.50146484375, 240605.0505065918, 20625.868377685547, 55013.59588623047, 70779.57275390625, 2167.6808166503906, 224711.23123168945, 30582.535858154297, 66143.40545654297, 4965.173492431641, 50554.151916503906, 33490.950622558594, 112969.44717407227, 55248.6003112793, 29751.56021118164, 211464.5018005371, 28679.940032958984, 30954.78286743164, 214465.03829956055, 154980.71823120117, 175890.4719543457, 27080.029907226562, 5038.494873046875, 113907.58483886719, 46598.55743408203, 156456.5460205078, 135405.78964233398, 19114.319915771484, 30623.89663696289, 75165.69534301758, 99280.90942382812, 42453.0793762207, 10280.033569335938, 77357.81661987305]\n",
    "\n",
    "## Percent Errors:\n",
    "[0.12928327875493736, 0.26041826717883054, 0.3181079063816175, 0.7247818299607485, 0.1009378521602265, 0.7480794429742299, 0.078227379582854, 2.677216911072527, 0.04754042951484582, 0.3270483833111665, 0.40250173731758165, 0.03086188436830835, 2.6210473224858557, 1.1761260935579496, 0.3351145401724056, 0.03935330055133363, 0.4074365889875451, 0.3541761934111378, 1.6072164121218606, 0.39860832293418696, 0.285938855160451, 2.8437539503956715, 0.26228014373398895, 0.39886143410852715, 1.136137282632512, 0.43721426071091407, 2.028423996704464, 0.8666666666666667, 0.07293707816242108, 0.9609821088694328, 0.3915392392265892, 2.9793784906200775, 4.451359703337453, 0.43558545049483743, 0.9322383105362559, 0.3334167271271672, 1.0113762592408166, 0.649103139013453, 0.06634473052003204, 1.3365490807509908]"
   ]
  }
 ],
 "metadata": {
  "interpreter": {
   "hash": "4f946df053fbf2b937619d3c5458e7af74262f9a954d8797ba0b27400bcafe06"
  },
  "kernelspec": {
   "display_name": "Python 3",
   "language": "python",
   "name": "python3"
  },
  "language_info": {
   "codemirror_mode": {
    "name": "ipython",
    "version": 3
   },
   "file_extension": ".py",
   "mimetype": "text/x-python",
   "name": "python",
   "nbconvert_exporter": "python",
   "pygments_lexer": "ipython3",
   "version": "3.8.10"
  },
  "orig_nbformat": 4
 },
 "nbformat": 4,
 "nbformat_minor": 2
}
